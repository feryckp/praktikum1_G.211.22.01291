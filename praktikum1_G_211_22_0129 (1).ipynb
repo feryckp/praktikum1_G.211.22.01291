{
  "nbformat": 4,
  "nbformat_minor": 0,
  "metadata": {
    "colab": {
      "private_outputs": true,
      "provenance": []
    },
    "kernelspec": {
      "name": "python3",
      "display_name": "Python 3"
    },
    "language_info": {
      "name": "python"
    }
  },
  "cells": [
    {
      "cell_type": "code",
      "execution_count": null,
      "metadata": {
        "id": "EQ0MW4gEq1Qy"
      },
      "outputs": [],
      "source": [
        "teman =[\"adi\",\"gandi \",\"septi\",\"dirga\",\"jimi\"]"
      ]
    },
    {
      "cell_type": "code",
      "source": [
        "print(teman[3])"
      ],
      "metadata": {
        "id": "536e4rRHrtWk"
      },
      "execution_count": null,
      "outputs": []
    },
    {
      "cell_type": "code",
      "source": [
        "print (\"isi teman indeks ke-3 adalah {}\".format(teman[3])"
      ],
      "metadata": {
        "id": "YeoLu4O4sFX0"
      },
      "execution_count": null,
      "outputs": []
    },
    {
      "cell_type": "code",
      "source": [
        "print(\"Semua teman: ada {} orang\".format(len(teman)))"
      ],
      "metadata": {
        "id": "A34Y53khsLVs"
      },
      "execution_count": null,
      "outputs": []
    },
    {
      "cell_type": "code",
      "source": [
        "print(\"Semua teman: ada {} orang\".format(len(teman)))"
      ],
      "metadata": {
        "id": "1SojvbYSsONm"
      },
      "execution_count": null,
      "outputs": []
    },
    {
      "cell_type": "code",
      "source": [
        "for i in teman : print (i)"
      ],
      "metadata": {
        "id": "oS5P6l3tsSAT"
      },
      "execution_count": null,
      "outputs": []
    },
    {
      "cell_type": "code",
      "source": [
        "for i in range(5):\n",
        "    print(i)"
      ],
      "metadata": {
        "id": "LNAxxRQrsX0s"
      },
      "execution_count": null,
      "outputs": []
    },
    {
      "cell_type": "code",
      "source": [
        "#Deklarasi List\n",
        "list_nilai = [1,2,3,4,5,6,7,8,9,10]\n",
        "#tampilkan list\n",
        "print(\"List Nilai : \\n\",list_nilai)\n",
        "#menggunakan len\n",
        "print(\"\\nJumlah Index list nilai (len) : \\n\", len(list_nilai))\n",
        "#menggunakan count\n",
        "print(\"\\nJumlah Nilai 5 Dalam List (count) : \\n\", list_nilai.count(5))\n",
        "#Menggunakan append\n",
        "print(\"\\nMenambah element dalam list (append) : \")\n",
        "list_nilai.append(12)\n",
        "list_nilai.append(10)\n",
        "print(\"List Nilai : \",list_nilai)\n",
        "#Menggunakan index\n",
        "print(\"\\nIndex ke 8 (index) : \\n\", list_nilai.index(8))\n",
        "#Menggunakan insert\n",
        "list_nilai.insert(1,12)\n",
        "print(\"\\nTambah Nilai List (Insert) : \\n\", list_nilai)\n",
        "#Menggunakan pop\n",
        "list_nilai.pop()\n",
        "list_nilai.pop()\n",
        "print(\"\\nList Nilai (pop) : \\n\",list_nilai)\n",
        "#Menggunakan remove\n",
        "list_nilai.remove(2)\n",
        "list_nilai.remove(1)\n",
        "print(\"\\nList Nilai (remove) : \\n\", list_nilai)\n",
        ""
      ],
      "metadata": {
        "id": "FugvTv1_sah7"
      },
      "execution_count": null,
      "outputs": []
    },
    {
      "cell_type": "code",
      "source": [
        "#Menggunakan extend\n",
        "list_nilai2 = [4,3,8,7]\n",
        "list_nilai.extend(list_nilai2)\n",
        "print(\"\\nList Nilai (extend : \\n\", list_nilai)\n",
        "#Menggunakan reverse\n",
        "list_nilai.reverse()\n",
        "print(\"\\nList Nilai (reverse) : \\n\", list_nilai)\n",
        "#Menggunakan sort\n",
        "list_nilai.sort()\n",
        "print(\"\\nList Nilai (sort) : \\n\", list_nilai)\n",
        "#Menggunakan Max\n",
        "print(\"\\nNilai Terbanyak (max) : \\n\", max(list_nilai))\n",
        "#Mengguankan min\n",
        "print(\"\\nNilai terendah (min) : \\n\", min(list_nilai))\n",
        "#Menggunakan Sum\n",
        "print(\"\\nTotal penjumlahan nilai dari list_nilai (sum) : \\n\",\n",
        "sum(list_nilai))"
      ],
      "metadata": {
        "id": "f9b1qwEusnJp"
      },
      "execution_count": null,
      "outputs": []
    }
  ]
}